{
 "cells": [
  {
   "cell_type": "code",
   "execution_count": 1,
   "id": "4db91a07",
   "metadata": {},
   "outputs": [
    {
     "name": "stdout",
     "output_type": "stream",
     "text": [
      "Đã chuẩn hóa bằng Z-score và lưu vào normalized_output.csv\n"
     ]
    }
   ],
   "source": [
    "import pandas as pd\n",
    "from sklearn.preprocessing import StandardScaler\n",
    "\n",
    "df = pd.read_csv(\"binary_output.csv\")\n",
    "\n",
    "X = df.drop(columns=[\"Label\"])\n",
    "y = df[\"Label\"]\n",
    "\n",
    "scaler = StandardScaler()\n",
    "X_scaled = scaler.fit_transform(X)\n",
    "\n",
    "X_scaled_df = pd.DataFrame(X_scaled, columns=X.columns)\n",
    "df_normalized = pd.concat([X_scaled_df, y], axis=1)\n",
    "\n",
    "df_normalized.to_csv(\"normalized_output.csv\", index=False)\n",
    "\n",
    "print(\"Đã chuẩn hóa bằng Z-score và lưu vào normalized_output.csv\")"
   ]
  },
  {
   "cell_type": "code",
   "execution_count": 2,
   "id": "195aa8d8",
   "metadata": {},
   "outputs": [],
   "source": [
    "import pandas as pd"
   ]
  },
  {
   "cell_type": "code",
   "execution_count": 3,
   "id": "019e8572",
   "metadata": {},
   "outputs": [
    {
     "name": "stdout",
     "output_type": "stream",
     "text": [
      " Protocol  Flow Duration  Total Fwd Packets  Total Backward Packets  Fwd Packets Length Total  Bwd Packets Length Total  Fwd Packet Length Max  Fwd Packet Length Min  Fwd Packet Length Mean  Fwd Packet Length Std ...  Label\n",
      "  -0.4354        -0.0188            -0.0183                 -0.0069                   -0.0154                   -0.0094                -0.3012                -0.3264                 -0.1303                -0.2154 ...      0\n",
      "  -0.4354        -0.0190            -0.0211                 -0.0367                   -0.0206                   -0.0227                -0.7559                -0.3264                 -0.7160                -0.6299 ...      0\n",
      "  -0.4354        -0.0186            -0.0175                  0.0330                   -0.0101                    0.0142                 0.2061                -0.3264                  0.3842                 0.0705 ...      0\n",
      "  -0.4354        -0.0190            -0.0211                 -0.0417                   -0.0209                   -0.0227                -0.8612                -0.3264                 -0.9782                -0.8135 ...      0\n",
      "  -0.4354        -0.0186            -0.0183                  0.0230                   -0.0081                   -0.0011                 0.5720                -0.3264                  0.9921                 0.4429 ...      0\n",
      "  -0.4354        -0.0190            -0.0211                 -0.0417                   -0.0209                   -0.0227                -0.8612                -0.3264                 -0.9782                -0.8135 ...      0\n",
      "  -0.4354        -0.0115            -0.0207                 -0.0367                   -0.0209                   -0.0227                -0.8612                -0.3264                 -0.9782                -0.8135 ...      0\n",
      "  -0.4354        -0.0190            -0.0211                 -0.0417                   -0.0209                   -0.0227                -0.8612                -0.3264                 -0.9782                -0.8135 ...      0\n",
      "  -0.4354        -0.0189            -0.0187                 -0.0019                   -0.0035                   -0.0090                 2.1273                -0.3264                  2.0371                 1.6714 ...      0\n",
      "  -0.4354        -0.0190            -0.0207                 -0.0417                   -0.0206                   -0.0227                -0.7753                -0.3264                 -0.8356                -0.6912 ...      0\n",
      "====================================================================================================\n"
     ]
    }
   ],
   "source": [
    "df = pd.read_csv('normalized_output.csv')\n",
    "\n",
    "selected_columns = df.columns[:10].tolist()\n",
    "\n",
    "display_df = df[selected_columns].copy().head(10)\n",
    "\n",
    "display_df.insert(loc=10, column='...', value=['...']*10)  \n",
    "display_df['Label'] = df['Label'].head(10)  \n",
    "\n",
    "pd.set_option('display.max_columns', None)  \n",
    "pd.set_option('display.width', 1000)    \n",
    "pd.set_option('display.max_colwidth', 12)  \n",
    "pd.set_option('display.float_format', '{:.4f}'.format) \n",
    "\n",
    "print(display_df.to_string(index=False))  \n",
    "print(\"=\"*100)"
   ]
  }
 ],
 "metadata": {
  "kernelspec": {
   "display_name": "Python 3",
   "language": "python",
   "name": "python3"
  },
  "language_info": {
   "codemirror_mode": {
    "name": "ipython",
    "version": 3
   },
   "file_extension": ".py",
   "mimetype": "text/x-python",
   "name": "python",
   "nbconvert_exporter": "python",
   "pygments_lexer": "ipython3",
   "version": "3.13.3"
  }
 },
 "nbformat": 4,
 "nbformat_minor": 5
}
