{
 "cells": [
  {
   "cell_type": "code",
   "execution_count": 2,
   "id": "a4d88e29",
   "metadata": {},
   "outputs": [
    {
     "name": "stdout",
     "output_type": "stream",
     "text": [
      "Đã chia dữ liệu và lưu vào thư mục R2G_output:\n",
      " - undersampled_train.csv\n",
      " - undersampled_test.csv\n"
     ]
    }
   ],
   "source": [
    "import pandas as pd\n",
    "from sklearn.model_selection import train_test_split\n",
    "import os\n",
    "\n",
    "# Bước 1: Đọc dữ liệu\n",
    "df = pd.read_csv(\"undersampled_output.csv\")\n",
    "X = df.drop(columns=[\"Label\"])\n",
    "y = df[\"Label\"]\n",
    "\n",
    "# Bước 2: Chia dữ liệu theo tỷ lệ 8:2, stratified theo y\n",
    "X_train, X_test, y_train, y_test = train_test_split(\n",
    "    X, y, test_size=0.2, random_state=42, stratify=y\n",
    ")\n",
    "\n",
    "# Bước 3: Gộp lại để lưu\n",
    "train_df = X_train.copy()\n",
    "train_df[\"Label\"] = y_train.values\n",
    "\n",
    "test_df = X_test.copy()\n",
    "test_df[\"Label\"] = y_test.values\n",
    "\n",
    "# Bước 4: Tạo thư mục nếu chưa tồn tại\n",
    "output_dir = \"R2G_output\"\n",
    "os.makedirs(output_dir, exist_ok=True)\n",
    "\n",
    "# Bước 5: Lưu file train/test\n",
    "train_df.to_csv(os.path.join(output_dir, \"undersampled_train.csv\"), index=False)\n",
    "test_df.to_csv(os.path.join(output_dir, \"undersampled_test.csv\"), index=False)\n",
    "\n",
    "print(\"Đã chia dữ liệu và lưu vào thư mục R2G_output:\")\n",
    "print(\" - undersampled_train.csv\")\n",
    "print(\" - undersampled_test.csv\")"
   ]
  }
 ],
 "metadata": {
  "kernelspec": {
   "display_name": "Python 3",
   "language": "python",
   "name": "python3"
  },
  "language_info": {
   "codemirror_mode": {
    "name": "ipython",
    "version": 3
   },
   "file_extension": ".py",
   "mimetype": "text/x-python",
   "name": "python",
   "nbconvert_exporter": "python",
   "pygments_lexer": "ipython3",
   "version": "3.13.3"
  }
 },
 "nbformat": 4,
 "nbformat_minor": 5
}
