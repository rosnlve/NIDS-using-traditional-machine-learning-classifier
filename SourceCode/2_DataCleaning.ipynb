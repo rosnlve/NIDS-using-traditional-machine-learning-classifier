{
 "cells": [
  {
   "cell_type": "code",
   "execution_count": 1,
   "id": "b3056565",
   "metadata": {},
   "outputs": [],
   "source": [
    "import pandas as pd\n",
    "import os"
   ]
  },
  {
   "cell_type": "code",
   "execution_count": 2,
   "id": "f91dfff5",
   "metadata": {},
   "outputs": [
    {
     "name": "stdout",
     "output_type": "stream",
     "text": [
      "Bwd PSH Flags: 100.00% là 0\n",
      "Fwd URG Flags: 99.97% là 0\n",
      "Bwd URG Flags: 100.00% là 0\n",
      "FIN Flag Count: 99.75% là 0\n",
      "CWE Flag Count: 99.97% là 0\n",
      "Fwd Avg Bytes/Bulk: 100.00% là 0\n",
      "Fwd Avg Packets/Bulk: 100.00% là 0\n",
      "Fwd Avg Bulk Rate: 100.00% là 0\n",
      "Bwd Avg Bytes/Bulk: 100.00% là 0\n",
      "Bwd Avg Packets/Bulk: 100.00% là 0\n",
      "Bwd Avg Bulk Rate: 100.00% là 0\n"
     ]
    }
   ],
   "source": [
    "df = pd.read_csv('merged_output.csv')\n",
    "\n",
    "threshold = 0.98\n",
    "total_rows = len(df)\n",
    "\n",
    "for col in df.columns:\n",
    "    zero_ratio = (df[col] == 0).sum() / total_rows\n",
    "    if zero_ratio > threshold:\n",
    "        print(f\"{col}: {zero_ratio*100:.2f}% là 0\")"
   ]
  },
  {
   "cell_type": "code",
   "execution_count": null,
   "id": "ecca38f1",
   "metadata": {},
   "outputs": [
    {
     "name": "stdout",
     "output_type": "stream",
     "text": [
      "Số dòng chứa giá trị NaN: 0\n",
      "Số dòng chứa giá trị vô cùng (inf, -inf): 0\n",
      "Số dòng bị lặp toàn bộ: 331272\n",
      "\n",
      "Số dòng bị lặp theo từng nhãn (Label):\n",
      "Label\n",
      "Benign              326591\n",
      "Brute Force -Web        15\n",
      "Brute Force -XSS         1\n",
      "Infilteration         4664\n",
      "SQL Injection            1\n",
      "dtype: int64\n"
     ]
    }
   ],
   "source": [
    "total_rows = len(df)\n",
    "#1. Đếm dòng chứa NaN\n",
    "nan_rows = df.isnull().any(axis=1).sum()\n",
    "print(f\"Số dòng chứa giá trị NaN: {nan_rows}\")\n",
    "#2. Đếm dòng chứa vô cùng\n",
    "inf_rows = df.applymap(lambda x: str(x).lower() in [\"inf\", \"-inf\", \"infinity\", \"-infinity\"]).any(axis=1).sum()\n",
    "inf_numeric_rows = ((df == np.inf) | (df == -np.inf)).any(axis=1).sum()\n",
    "total_inf_rows = inf_rows + inf_numeric_rows\n",
    "print(f\"Số dòng chứa giá trị vô cùng (inf, -inf): {total_inf_rows}\")\n",
    "#3. Đếm số dòng bị lặp toàn phần\n",
    "duplicated_rows = df.duplicated()\n",
    "duplicate_count = duplicated_rows.sum()\n",
    "print(f\"Số dòng bị lặp toàn bộ: {duplicate_count}\")\n",
    "#4. Đếm số dòng lặp theo từng nhãn\n",
    "if 'Label' in df.columns:\n",
    "    duplicate_by_label = df[duplicated_rows].groupby('Label').size()\n",
    "    print(\"\\nSố dòng bị lặp theo từng nhãn (Label):\")\n",
    "    print(duplicate_by_label)\n",
    "else:\n",
    "    print(\"\\nKhông tìm thấy cột 'Label' trong dữ liệu.\")"
   ]
  },
  {
   "cell_type": "code",
   "execution_count": 6,
   "id": "14c8f311",
   "metadata": {},
   "outputs": [
    {
     "name": "stdout",
     "output_type": "stream",
     "text": [
      "Đã làm sạch và lưu vào cleaned_output.csv\n"
     ]
    }
   ],
   "source": [
    "columns_to_drop = [\n",
    "    \"Bwd PSH Flags\",\n",
    "    \"Fwd URG Flags\",\n",
    "    \"Bwd URG Flags\",\n",
    "    \"FIN Flag Count\",\n",
    "    \"CWE Flag Count\",\n",
    "    \"Fwd Avg Bytes/Bulk\",\n",
    "    \"Fwd Avg Packets/Bulk\",\n",
    "    \"Fwd Avg Bulk Rate\",\n",
    "    \"Bwd Avg Bytes/Bulk\",\n",
    "    \"Bwd Avg Packets/Bulk\",\n",
    "    \"Bwd Avg Bulk Rate\"\n",
    "]\n",
    "\n",
    "# 1. Xóa các cột nếu chúng tồn tại\n",
    "df.drop(columns=[col for col in columns_to_drop if col in df.columns], inplace=True)\n",
    "\n",
    "# 2. Chuyển kiểu dữ liệu các cột (trừ nhãn 'Label') sang float64, xử lý lỗi chuyển kiểu\n",
    "for col in df.columns:\n",
    "    if col != 'Label':\n",
    "        df[col] = pd.to_numeric(df[col], errors='coerce').astype('float64')\n",
    "df.dropna(inplace=True)\n",
    "\n",
    "# 3. Xóa các dòng trùng lặp\n",
    "df_cleaned = df.drop_duplicates()\n",
    "\n",
    "# 4. Lưu kết quả ra file mới\n",
    "df_cleaned.to_csv(\"cleaned_output.csv\", index=False)\n",
    "\n",
    "print(\"Đã làm sạch và lưu vào cleaned_output.csv\")"
   ]
  }
 ],
 "metadata": {
  "kernelspec": {
   "display_name": "Python 3",
   "language": "python",
   "name": "python3"
  },
  "language_info": {
   "codemirror_mode": {
    "name": "ipython",
    "version": 3
   },
   "file_extension": ".py",
   "mimetype": "text/x-python",
   "name": "python",
   "nbconvert_exporter": "python",
   "pygments_lexer": "ipython3",
   "version": "3.13.3"
  }
 },
 "nbformat": 4,
 "nbformat_minor": 5
}
